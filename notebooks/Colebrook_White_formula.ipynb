{
 "cells": [
  {
   "cell_type": "code",
   "execution_count": 87,
   "metadata": {},
   "outputs": [
    {
     "name": "stdout",
     "output_type": "stream",
     "text": [
      "Flow velocity =  2.04  m/s\n",
      "Reynolds number =  509296\n",
      "Reynolds number > 4000 therefore design is turbulent enough to comply with Severn Trent hydraulic standards.\n",
      "Head loss =  35.807  m. (Swamee Jain approximation)\n"
     ]
    }
   ],
   "source": [
    "# Colebrook White headloss calculator\n",
    "\n",
    "# Input\n",
    "Q = 100 # l/s\n",
    "D = 250 # mm Pipe diameter\n",
    "v = 1*10**-6 # m**2/s Viscosity\n",
    "g = 9.81 # m/s**2\n",
    "L = 2000 # m length of pipe\n",
    "k = 0.3 # mm surface roughness\n",
    "\n",
    "# Calculations for first approximation to Swamee Jain f factor\n",
    "import math\n",
    "pi = math.pi\n",
    "A = (pi*((D/1000)**2))/4 # m**2 Pipe area\n",
    "V = (Q/1000)/A # m/s Flow velocity\n",
    "print('Flow velocity = ',round(V,2),' m/s')\n",
    "Re = (V*(D/1000))/v\n",
    "print('Reynolds number = ',round(Re))\n",
    "if Re > 4000:\n",
    "    print('Reynolds number > 4000 therefore design is turbulent enough to comply with Severn Trent hydraulic standards.')\n",
    "else:\n",
    "        print('Reynolds number is < 4000, design not compliant with Severn Trent Standards, increase flow turbulence.')\n",
    "f = 0.25 / ((math.log10(((k/1000)/(3.71*(D/1000))+(5.74/(Re**0.9)))))**2)\n",
    "Hl = f * (L/(D/1000)) * ((V**2)/(2*g))\n",
    "print('Head loss = ',\"%.3f\" % Hl,' m. (Swamee Jain approximation)')"
   ]
  },
  {
   "cell_type": "markdown",
   "metadata": {},
   "source": [
    "$$\n",
    "\\frac{1}{\\sqrt{f}}=-2log{\\left(\\frac{k}{3.7D}+\\frac{2.51}{Re{f^{0.5}}}\\right)}\n",
    "$$"
   ]
  },
  {
   "cell_type": "code",
   "execution_count": 88,
   "metadata": {},
   "outputs": [
    {
     "name": "stdout",
     "output_type": "stream",
     "text": [
      "f =  0.02116\n",
      "Left hand Cbw =  6.87448\n",
      "Right hand Cbw =  8.93184\n"
     ]
    }
   ],
   "source": [
    "# Colebrook White equation\n",
    "lh = 1/(f**0.5)\n",
    "rh = -2*math.log10(((k/1000)/(3.7*D))+(2.51/(Re*(f**0.5))))\n",
    "print('f = ',\"%.5f\" % f)\n",
    "print('Left hand Cbw = ',\"%.5f\" % lh)\n",
    "print('Right hand Cbw = ',\"%.5f\" % rh)"
   ]
  },
  {
   "cell_type": "code",
   "execution_count": 89,
   "metadata": {},
   "outputs": [
    {
     "name": "stdout",
     "output_type": "stream",
     "text": [
      "f =  0.02106\n",
      "LH Cbw =  6.89153\n",
      "RH Cbw =  6.89153\n",
      "Diff =9.835331065133346e-07\n",
      "\n",
      "\n",
      "Flow velocity =  2.04  m/s\n",
      "Head loss =  35.807  m. (Swamee Jain approximation)\n",
      "Head loss =  35.630  m. (iterative method)\n",
      "0.177 m difference between Colebrook White iterative method and Swamee Jain approximation\n",
      "1045708 iterations to solution\n"
     ]
    }
   ],
   "source": [
    "# Iteration to get right and left side of Colebrook White equation approximately equal\n",
    "Diff = (lh - rh)**2\n",
    "n = 0\n",
    "while Diff > 1e-12:\n",
    "    if lh > rh:\n",
    "        f = f + 0.0000000001\n",
    "    else:\n",
    "            f = f - 0.0000000001\n",
    "    lh = 1/(f**0.5)\n",
    "    rh = -2*math.log10(((k/1000)/(3.7*(D/1000)))+(2.51/(Re*(f**0.5))))\n",
    "    Diff = (lh - rh)**2\n",
    "    n += 1\n",
    "Hlcbw = f * (L/(D/1000)) * ((V**2)/(2*g))\n",
    "Hldiff = ((Hl - Hlcbw)**2)**0.5\n",
    "print('f = ',round(f,5))\n",
    "print('LH Cbw = ',\"%.5f\" % lh)\n",
    "print('RH Cbw = ',\"%.5f\" % rh)\n",
    "print(f'Diff ={Diff**0.5}')\n",
    "print('\\n')\n",
    "print('Flow velocity = ',\"%.2f\" % V,' m/s')\n",
    "print('Head loss = ',\"%.3f\" % Hl,' m. (Swamee Jain approximation)')\n",
    "print('Head loss = ',\"%.3f\" % Hlcbw,' m. (iterative method)')\n",
    "print(\"%.3f\" % Hldiff,\"m difference between Colebrook White iterative method and Swamee Jain approximation\")\n",
    "print(f'{n} iterations to solution')"
   ]
  },
  {
   "cell_type": "code",
   "execution_count": 58,
   "metadata": {},
   "outputs": [
    {
     "name": "stdout",
     "output_type": "stream",
     "text": [
      "f =  0.02106\n",
      "LH Cbw =  6.89153\n",
      "RH Cbw =  6.89153\n",
      "Diff =4.149925381113917e-08\n",
      "\n",
      "\n",
      "Flow velocity =  2.04  m/s\n",
      "Head loss =  35.807  m. (Swamee Jain approximation)\n",
      "Head loss =  35.630  m. (iterative method)\n",
      "0.177 m difference between Colebrook White iterative method and Swamee Jain approximation\n",
      "5 iterations to solution\n"
     ]
    }
   ],
   "source": [
    "# Iteration to get right and left side of Colebrook White equation approximately equal\n",
    "# This method gets far faster convergence than method above\n",
    "\n",
    "Diff = (lh - rh)\n",
    "n = 0\n",
    "\n",
    "while Diff > 1e6 or Diff < -1e6:\n",
    "    f = (1/rh)**2 # re-arrange lh and re-calculate f by substituting rh for lh\n",
    "    lh = 1/(f**0.5) # re-calculate lh with new f\n",
    "    # re-calculate rh with new f\n",
    "    rh = -2*math.log10(((k/1000)/(3.7*(D/1000)))+(2.51/(Re*(f**0.5))))\n",
    "    Diff = (lh - rh) # re-calculate the difference\n",
    "    n += 1\n",
    "\n",
    "Hlcbw = f * (L/(D/1000)) * ((V**2)/(2*g))\n",
    "Hldiff = ((Hl - Hlcbw)**2)**0.5\n",
    "print('f = ',round(f,5))\n",
    "print('LH Cbw = ',\"%.5f\" % lh)\n",
    "print('RH Cbw = ',\"%.5f\" % rh)\n",
    "print(f'Diff ={Diff}')\n",
    "print('\\n')\n",
    "print('Flow velocity = ',\"%.2f\" % V,' m/s')\n",
    "print('Head loss = ',\"%.3f\" % Hl,' m. (Swamee Jain approximation)')\n",
    "print('Head loss = ',\"%.3f\" % Hlcbw,' m. (iterative method)')\n",
    "print(\"%.3f\" % Hldiff,\"m difference between Colebrook White iterative method and Swamee Jain approximation\")\n",
    "print(f'{n} iterations to solution')"
   ]
  },
  {
   "cell_type": "code",
   "execution_count": 61,
   "metadata": {},
   "outputs": [
    {
     "name": "stdout",
     "output_type": "stream",
     "text": [
      "3.1591\n"
     ]
    }
   ],
   "source": [
    "ro = 3.1590587263\n",
    "print(f'rounding example{'%.4f' % ro})"
   ]
  },
  {
   "cell_type": "code",
   "execution_count": 64,
   "metadata": {},
   "outputs": [
    {
     "data": {
      "text/plain": [
       "1e-12"
      ]
     },
     "execution_count": 64,
     "metadata": {},
     "output_type": "execute_result"
    }
   ],
   "source": [
    "0.000001**2"
   ]
  }
 ],
 "metadata": {
  "kernelspec": {
   "display_name": "Python 3",
   "language": "python",
   "name": "python3"
  },
  "language_info": {
   "codemirror_mode": {
    "name": "ipython",
    "version": 3
   },
   "file_extension": ".py",
   "mimetype": "text/x-python",
   "name": "python",
   "nbconvert_exporter": "python",
   "pygments_lexer": "ipython3",
   "version": "3.7.9"
  }
 },
 "nbformat": 4,
 "nbformat_minor": 4
}