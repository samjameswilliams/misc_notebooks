{
 "cells": [
  {
   "cell_type": "markdown",
   "metadata": {},
   "source": [
    "Darcy-Weisbach equation  \n",
    "$$\n",
    "H_L=f\\left(\\frac{L}{D}\\right)\\left(\\frac{v^2}{2g}\\right)\n",
    "$$\n",
    "Colebrook White equation  \n",
    "$$\n",
    "\\frac{1}{\\sqrt{f}}=-2log{\\left(\\frac{k}{3.7D}+\\frac{2.51}{R_e{f^{0.5}}}\\right)}\n",
    "$$\n",
    "Swamee Jain friction factor approximation  \n",
    "$$\n",
    "f=\\frac{0.25}{\\left(log\\left(\\frac{k}{3.71D}+\\frac{5.74}{R_e^{0.9}}\\right)\\right)^2}\n",
    "$$"
   ]
  },
  {
   "cell_type": "code",
   "execution_count": 7,
   "metadata": {},
   "outputs": [
    {
     "name": "stdout",
     "output_type": "stream",
     "text": [
      "Flow velocity =  5.66  m/s\n",
      "Reynolds number =  848826\n",
      "Reynolds number > 4000 therefore design is turbulent enough to comply with Severn Trent hydraulic standards.\n",
      "Head loss =  644.826  m. (Swamee Jain approximation)\n"
     ]
    }
   ],
   "source": [
    "# Colebrook White headloss calculator\n",
    "\n",
    "# Input\n",
    "Q = 100 # l/s\n",
    "D = 150 # mm Pipe diameter\n",
    "v = 1*10**-6 # m**2/s Viscosity\n",
    "g = 9.81 # m/s**2\n",
    "L = 2500 # m length of pipe\n",
    "k = 0.3 # mm surface roughness\n",
    "\n",
    "# Calculations for first approximation to Swamee Jain f factor\n",
    "import math\n",
    "pi = math.pi\n",
    "A = (pi*((D/1000)**2))/4 # m**2 Pipe area\n",
    "V = (Q/1000)/A # m/s Flow velocity\n",
    "print('Flow velocity = ',round(V,2),' m/s')\n",
    "Re = (V*(D/1000))/v\n",
    "print('Reynolds number = ',round(Re))\n",
    "if Re > 4000:\n",
    "    print('Reynolds number > 4000 therefore design is turbulent enough to comply with Severn Trent hydraulic standards.')\n",
    "else:\n",
    "        print('Reynolds number is < 4000, design not compliant with Severn Trent Standards, increase flow turbulence.')\n",
    "# Swamee Jain friction factor\n",
    "f = 0.25 / ((math.log10(((k/1000)/(3.71*(D/1000))+(5.74/(Re**0.9)))))**2)\n",
    "# Darcy Weisbach equation\n",
    "Hl = f * (L/(D/1000)) * ((V**2)/(2*g))\n",
    "print('Head loss = ',\"%.3f\" % Hl,' m. (Swamee Jain approximation)')"
   ]
  },
  {
   "cell_type": "code",
   "execution_count": 8,
   "metadata": {},
   "outputs": [
    {
     "name": "stdout",
     "output_type": "stream",
     "text": [
      "f =  0.02370\n",
      "Left hand Cbw =  6.49503\n",
      "Right hand Cbw =  9.40902\n"
     ]
    }
   ],
   "source": [
    "# Colebrook White equation\n",
    "lh = 1/(f**0.5)\n",
    "rh = -2*math.log10(((k/1000)/(3.7*D))+(2.51/(Re*(f**0.5))))\n",
    "print('f = ',\"%.5f\" % f)\n",
    "print('Left hand Cbw = ',\"%.5f\" % lh)\n",
    "print('Right hand Cbw = ',\"%.5f\" % rh)"
   ]
  },
  {
   "cell_type": "code",
   "execution_count": 9,
   "metadata": {},
   "outputs": [
    {
     "name": "stdout",
     "output_type": "stream",
     "text": [
      "f =  0.02364\n",
      "LH Cbw =  6.50398\n",
      "RH Cbw =  6.50398\n",
      "Diff =9.918185606139218e-07\n",
      "\n",
      "\n",
      "Flow velocity =  5.66  m/s\n",
      "Head loss =  644.826  m. (Swamee Jain approximation)\n",
      "Head loss =  643.054  m. (iterative method)\n",
      "1.772 m difference between Colebrook White iterative method and Swamee Jain approximation\n",
      "651464 iterations to solution\n"
     ]
    }
   ],
   "source": [
    "# Iteration to get right and left side of Colebrook White equation approximately equal\n",
    "Diff = (lh - rh)**2\n",
    "n = 0\n",
    "while Diff > 1e-12:\n",
    "    if lh > rh:\n",
    "        f = f + 0.0000000001\n",
    "    else:\n",
    "            f = f - 0.0000000001\n",
    "    lh = 1/(f**0.5)\n",
    "    rh = -2*math.log10(((k/1000)/(3.7*(D/1000)))+(2.51/(Re*(f**0.5))))\n",
    "    Diff = (lh - rh)**2\n",
    "    n += 1\n",
    "Hlcbw = f * (L/(D/1000)) * ((V**2)/(2*g))\n",
    "Hldiff = ((Hl - Hlcbw)**2)**0.5\n",
    "print('f = ',round(f,5))\n",
    "print('LH Cbw = ',\"%.5f\" % lh)\n",
    "print('RH Cbw = ',\"%.5f\" % rh)\n",
    "print(f'Diff ={Diff**0.5}')\n",
    "print('\\n')\n",
    "print('Flow velocity = ',\"%.2f\" % V,' m/s')\n",
    "print('Head loss = ',\"%.3f\" % Hl,' m. (Swamee Jain approximation)')\n",
    "print('Head loss = ',\"%.3f\" % Hlcbw,' m. (iterative method)')\n",
    "print(\"%.3f\" % Hldiff,\"m difference between Colebrook White iterative method and Swamee Jain approximation\")\n",
    "print(f'{n} iterations to solution')"
   ]
  },
  {
   "cell_type": "code",
   "execution_count": 10,
   "metadata": {},
   "outputs": [
    {
     "name": "stdout",
     "output_type": "stream",
     "text": [
      "f =  0.02364\n",
      "LH Cbw =  6.50398\n",
      "RH Cbw =  6.50398\n",
      "Diff =-9.918185606139218e-07\n",
      "\n",
      "\n",
      "Flow velocity =  5.66  m/s\n",
      "Head loss =  644.826  m. (Swamee Jain approximation)\n",
      "Head loss =  643.054  m. (iterative method)\n",
      "1.772 m difference between Colebrook White iterative method and Swamee Jain approximation\n",
      "0 iterations to solution\n"
     ]
    }
   ],
   "source": [
    "# Iteration to get right and left side of Colebrook White equation approximately equal\n",
    "# This method gets far faster convergence than method above\n",
    "\n",
    "Diff = (lh - rh)\n",
    "n = 0\n",
    "\n",
    "while Diff > 1e-6 or Diff < -1e-6:\n",
    "    f = (1/rh)**2 # re-arrange lh and re-calculate f by substituting rh for lh\n",
    "    lh = 1/(f**0.5) # re-calculate lh with new f\n",
    "    # re-calculate rh with new f\n",
    "    rh = -2*math.log10(((k/1000)/(3.7*(D/1000)))+(2.51/(Re*(f**0.5))))\n",
    "    Diff = (lh - rh) # re-calculate the difference\n",
    "    n += 1\n",
    "\n",
    "Hlcbw = f * (L/(D/1000)) * ((V**2)/(2*g))\n",
    "Hldiff = ((Hl - Hlcbw)**2)**0.5\n",
    "print('f = ',round(f,5))\n",
    "print('LH Cbw = ',\"%.5f\" % lh)\n",
    "print('RH Cbw = ',\"%.5f\" % rh)\n",
    "print(f'Diff ={Diff}')\n",
    "print('\\n')\n",
    "print('Flow velocity = ',\"%.2f\" % V,' m/s')\n",
    "print('Head loss = ',\"%.3f\" % Hl,' m. (Swamee Jain approximation)')\n",
    "print('Head loss = ',\"%.3f\" % Hlcbw,' m. (iterative method)')\n",
    "print(\"%.3f\" % Hldiff,\"m difference between Colebrook White iterative method and Swamee Jain approximation\")\n",
    "print(f'{n} iterations to solution')"
   ]
  },
  {
   "cell_type": "code",
   "execution_count": 12,
   "metadata": {},
   "outputs": [
    {
     "name": "stdout",
     "output_type": "stream",
     "text": [
      "Headloss using Swamee-Jain f: 644.826 m\n",
      "Headloss itteration 1: 307.267 m\n",
      "Headloss itteration 2: 645.677 m\n",
      "Headloss itteration 3: 643.041 m\n",
      "Headloss itteration 4: 643.053 m\n",
      "Headloss itteration 5: 643.053 m\n",
      "5 itterations to solution\n"
     ]
    }
   ],
   "source": [
    "# Input\n",
    "Q = 100 # l/s\n",
    "D = 150 # mm Pipe diameter\n",
    "v = 1*10**-6 # m**2/s Viscosity\n",
    "g = 9.81 # m/s**2\n",
    "L = 2500 # m length of pipe\n",
    "k = 0.3 # mm surface roughness\n",
    "accuracy = 3 # accuracy of calculation in decimal places\n",
    "# Prelim calcs\n",
    "A = (pi*((D/1000)**2))/4 # m**2 Pipe area\n",
    "V = (Q/1000)/A # m/s Flow velocity\n",
    "Re = (V*(D/1000))/v\n",
    "# Swamee Jain friction factor\n",
    "f = 0.25 / ((math.log10(((k/1000)/(3.71*(D/1000))+(5.74/(Re**0.9)))))**2)\n",
    "# Darcy Weisbach equation\n",
    "def d_w_Hl(f,L,D,V,g):\n",
    "    Hl = f * (L/(D/1000)) * ((V**2)/(2*g))\n",
    "    return Hl\n",
    "Hl = d_w_Hl(f,L,D,V,g)\n",
    "print(f'Headloss using Swamee-Jain f: {Hl:.3f} m')\n",
    "# Colebrook White equation\n",
    "lh = 1/(f**0.5)\n",
    "rh = -2*math.log10(((k/1000)/(3.7*D))+(2.51/(Re*(f**0.5))))\n",
    "# recalculate friction factor using lh of Colebrook White\n",
    "f_n = (1/rh)**2\n",
    "# recalculate head loss using new friction factor\n",
    "Hl_n = d_w_Hl(f_n,L,D,V,g)\n",
    "\n",
    "Diff = (Hl - Hl_n)\n",
    "n = 0\n",
    "\n",
    "while Diff > 10**(-accuracy) or Diff < -10**(-accuracy):\n",
    "    f = (1/rh)**2 # re-arrange lh and re-calculate f by substituting rh for lh\n",
    "    lh = 1/(f**0.5) # re-calculate lh with new f\n",
    "    # re-calculate rh with new f\n",
    "    rh = -2*math.log10(((k/1000)/(3.7*(D/1000)))+(2.51/(Re*(f**0.5))))\n",
    "    Hl_n = d_w_Hl(f,L,D,V,g)\n",
    "    print(f'Headloss itteration {n+1}: {Hl_n:.3f} m')\n",
    "    Diff = (Hl - Hl_n) # re-calculate the difference\n",
    "    Hl = Hl_n\n",
    "    n += 1\n",
    "print(f'{n} itterations to solution')"
   ]
  },
  {
   "cell_type": "code",
   "execution_count": null,
   "metadata": {},
   "outputs": [],
   "source": []
  }
 ],
 "metadata": {
  "interpreter": {
   "hash": "28201c890b10a18a56d1de2c3d66dcb7e0c4d42914262072d67d5e884b8a725f"
  },
  "kernelspec": {
   "display_name": "Python 3",
   "language": "python",
   "name": "python3"
  },
  "language_info": {
   "codemirror_mode": {
    "name": "ipython",
    "version": 3
   },
   "file_extension": ".py",
   "mimetype": "text/x-python",
   "name": "python",
   "nbconvert_exporter": "python",
   "pygments_lexer": "ipython3",
   "version": "3.7.10"
  }
 },
 "nbformat": 4,
 "nbformat_minor": 4
}
