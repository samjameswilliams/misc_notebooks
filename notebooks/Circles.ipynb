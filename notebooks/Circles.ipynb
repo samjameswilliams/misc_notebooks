{
 "cells": [
  {
   "cell_type": "code",
   "execution_count": 1,
   "metadata": {},
   "outputs": [],
   "source": [
    "import matplotlib.pyplot as plt \n",
    "import numpy as np\n",
    "import random"
   ]
  },
  {
   "cell_type": "code",
   "execution_count": 2,
   "metadata": {},
   "outputs": [],
   "source": [
    "class Circle:\n",
    "    '''\n",
    "    Class for circles with the properties x and y for centre coordinate \n",
    "    and radius\n",
    "    '''\n",
    "    def __init__(self,x,y,rad):\n",
    "        self.x = x\n",
    "        self.y = y\n",
    "        self.rad = rad\n",
    "    \n",
    "    def __str__(self):\n",
    "        return f\"x: {self.x} y: {self.y} radius: {self.rad}\""
   ]
  },
  {
   "cell_type": "code",
   "execution_count": 3,
   "metadata": {},
   "outputs": [],
   "source": [
    "def centre_2_centre(circle_1,circle_2):\n",
    "    '''\n",
    "    Returns the distance between the centres of two circle objects\n",
    "    '''\n",
    "    x_1 = circle_1.x\n",
    "    x_2 = circle_2.x\n",
    "    y_1 = circle_1.y\n",
    "    y_2 = circle_2.y\n",
    "    dist = ((x_1 - x_2)**2 + (y_1 - y_2)**2)**0.5\n",
    "    return dist"
   ]
  },
  {
   "cell_type": "code",
   "execution_count": 4,
   "metadata": {},
   "outputs": [],
   "source": [
    "def clash(circle_1,circle_2):\n",
    "    '''\n",
    "    Checks if two inner circle objects clash\n",
    "    Returns True if there's no clash\n",
    "    '''\n",
    "    dist = centre_2_centre(circle_1, circle_2)\n",
    "    min_dist = circle_1.rad + circle_2.rad\n",
    "    return dist >= min_dist"
   ]
  },
  {
   "cell_type": "code",
   "execution_count": 5,
   "metadata": {},
   "outputs": [],
   "source": [
    "def out_duct(cable, duct):\n",
    "    '''\n",
    "    Checks if cable is in the duct\n",
    "    Arguments: duct - as Circle object, cable as Circle object\n",
    "    Returns: True if cable is inside the duct\n",
    "    '''\n",
    "    dist = centre_2_centre(duct,cable) # distance from centre of duct to centre of cable\n",
    "    return dist + cable.rad <= duct.rad "
   ]
  },
  {
   "cell_type": "code",
   "execution_count": 6,
   "metadata": {},
   "outputs": [],
   "source": [
    "def over_half(cable, duct):\n",
    "    '''\n",
    "    Checks if duct is more than half full after placing new cable\n",
    "    Arguments: duct - as Circle object, cable as Circle object\n",
    "    Returns: True if duct is less than half full after new cable, \n",
    "    '''\n",
    "    return cable.y + cable.rad <= duct.y"
   ]
  },
  {
   "cell_type": "code",
   "execution_count": 7,
   "metadata": {},
   "outputs": [],
   "source": [
    "def cable_filter(function,new_cable_list,placed_cable_list):\n",
    "    '''\n",
    "    Function to filter out inadmissible cable locations.\n",
    "    Arguments: function can be any of the functions to test \n",
    "    for inadmissible locations, the new cable list contains \n",
    "    the locations to be tested. Placed cables are cable locations\n",
    "    previously selected\n",
    "    Returns: Truncated new cable list containing only admissible\n",
    "    locations.\n",
    "    '''\n",
    "    # Making a new list of lists using the True/False test to \n",
    "    # compare all the items in the the first list with all\n",
    "    # the items in the second list\n",
    "    bool_new = []\n",
    "    n = 0\n",
    "    for i in new_cable_list:\n",
    "        bool_new.append([])\n",
    "        for j in placed_cable_list:\n",
    "            bool_new[n].append(function(i,j))\n",
    "        n += 1\n",
    "    \n",
    "    # Use the all() function to select only the lists where\n",
    "    # all the values are True\n",
    "    n = 0\n",
    "    boolall = []\n",
    "    for i in bool_new:\n",
    "        boolall.append(all(bool_new[n]))\n",
    "        n += 1\n",
    "    \n",
    "    # Shorten new cable list \n",
    "    onlytrue = []\n",
    "    n = 0\n",
    "    for i in boolall:\n",
    "        if i == True:\n",
    "            onlytrue.append(new_cable_list[n])\n",
    "        n += 1\n",
    "    \n",
    "    return onlytrue"
   ]
  },
  {
   "cell_type": "code",
   "execution_count": 8,
   "metadata": {},
   "outputs": [],
   "source": [
    "def cables_touch(cable_1,cable_2,new_cable):\n",
    "    '''\n",
    "    Checks if new cable can touch two existing cables\n",
    "    Arguments: cable_1 and 2 are existing cables as circle objects,\n",
    "    new_cable is the radius of the new cable\n",
    "    Return: True if new cable can touch the two existing cables at \n",
    "    the same time\n",
    "    '''\n",
    "    dist = centre_2_centre(cable_1,cable_2)\n",
    "    return dist <= cable_1.rad + cable_2.rad + 2*new_cable"
   ]
  },
  {
   "cell_type": "code",
   "execution_count": 9,
   "metadata": {},
   "outputs": [],
   "source": [
    "def touch_duct(duct,cable,new_cable):\n",
    "    '''\n",
    "    Checks if new cable can touch an existing cable and the duct\n",
    "    Arguments: duct and cable as circle objects, new_cable is the \n",
    "    radius of the new cable\n",
    "    Return: True if the new cable can touch the existing cable and \n",
    "    the duct at the same time\n",
    "    '''\n",
    "    dist = centre_2_centre(duct,cable)\n",
    "    return duct.rad <= dist + cable.rad + 2*new_cable"
   ]
  },
  {
   "cell_type": "code",
   "execution_count": 10,
   "metadata": {},
   "outputs": [],
   "source": [
    "def lowest_cable(cable_list):\n",
    "    '''\n",
    "    Returns the lowest cable in a list of cables\n",
    "    Arguments: list of cables as Circle objects\n",
    "    Returns: lowest cable in list \n",
    "    '''\n",
    "    if cable_list == []:\n",
    "        return cable_list\n",
    "    y_values = [] # Empty list to populate with y values from Circle objects\n",
    "    n = 0\n",
    "    for i in cable_list:\n",
    "        y_values.append(cable_list[n].y) # Creates list of all y values\n",
    "        n += 1\n",
    "    index_lowest = y_values.index(min(y_values)) # Gives index of lowest y value\n",
    "    return [cable_list[index_lowest]]"
   ]
  },
  {
   "cell_type": "code",
   "execution_count": 11,
   "metadata": {},
   "outputs": [
    {
     "name": "stdout",
     "output_type": "stream",
     "text": [
      "x: 0 y: -6 radius: 75\n"
     ]
    }
   ],
   "source": [
    "# Test lowest cable\n",
    "c_1 = Circle(x=0,y=0,rad=75)\n",
    "c_2 = Circle(x=0,y=1,rad=75)\n",
    "c_3 = Circle(x=0,y=5,rad=75)\n",
    "c_4 = Circle(x=0,y=5,rad=75)\n",
    "c_5 = Circle(x=0,y=-6,rad=75)\n",
    "cables = [c_1,c_2,c_3,c_4,c_5]\n",
    "#cables = []\n",
    "print(lowest_cable(cables)[0])"
   ]
  },
  {
   "cell_type": "code",
   "execution_count": 12,
   "metadata": {},
   "outputs": [],
   "source": [
    "c_1 = Circle(x=0,y=0,rad=75)"
   ]
  },
  {
   "cell_type": "code",
   "execution_count": 13,
   "metadata": {},
   "outputs": [],
   "source": [
    "def plot_duct(circle):\n",
    "    '''\n",
    "    Argument: Circle object\n",
    "    Return: Plot of a circle with a line through the middle\n",
    "    '''\n",
    "    centre_x = circle.x\n",
    "    centre_y = circle.y\n",
    "    radius = circle.rad\n",
    "    # Create a numpy array for the x values\n",
    "    x_values = np.linspace(centre_x - radius , centre_x + radius, num=1000)\n",
    "    # Create numpy array for y values\n",
    "    y_values = [] # start with empty list\n",
    "    # Create values above the centre of the circle\n",
    "    for i in x_values:\n",
    "        y_values.append((radius**2 - (i - centre_x)**2)**0.5 + centre_y)\n",
    "    # create y values below the centre of the circle\n",
    "    for i in x_values:\n",
    "        y_values.append(-(radius**2 - (i - centre_x)**2)**0.5 + centre_y)\n",
    "    # Convert the list into a numpy array\n",
    "    y_values = np.asarray(y_values)\n",
    "    # Double up the x values because they each appear twice\n",
    "    x_values = np.append(x_values, x_values)\n",
    "    plt.axis('equal') # makes the x and y axis equal in scale\n",
    "    return plt.plot(x_values,y_values)"
   ]
  },
  {
   "cell_type": "code",
   "execution_count": 14,
   "metadata": {},
   "outputs": [],
   "source": [
    "def plot_cable(circle):\n",
    "    '''\n",
    "    Argument: Circle object\n",
    "    Return: Plot of a circle\n",
    "    '''\n",
    "    centre_x = circle.x\n",
    "    centre_y = circle.y\n",
    "    radius = circle.rad\n",
    "    # Create a numpy array for the x values at the top of the circle\n",
    "    x_values_top = np.linspace(centre_x - radius , centre_x + radius, num=1000)\n",
    "    # Create a numpy array for the x values at the bottom of the circle\n",
    "    x_values_bottom = np.flipud(x_values_top)\n",
    "    # Create numpy array for y values\n",
    "    y_values = [] # start with empty list\n",
    "    # Create values above the centre of the circle\n",
    "    for i in x_values_top:\n",
    "        y_values.append((radius**2 - (i - centre_x)**2)**0.5 + centre_y)\n",
    "    # create y values below the centre of the circle\n",
    "    for i in x_values_bottom:\n",
    "        y_values.append(-(radius**2 - (i - centre_x)**2)**0.5 + centre_y)\n",
    "    # Convert the list into a numpy array\n",
    "    y_values = np.asarray(y_values)\n",
    "    # Joint the x values from the top and bottom of the circle together\n",
    "    x_values = np.append(x_values_top, x_values_bottom)\n",
    "    plt.axis('equal') # makes the x and y axis equal in scale\n",
    "    return plt.plot(x_values,y_values)"
   ]
  },
  {
   "cell_type": "code",
   "execution_count": 15,
   "metadata": {},
   "outputs": [],
   "source": [
    "def death_star():\n",
    "    '''\n",
    "    Plots the death star to scale in km\n",
    "    Arguments: none\n",
    "    Returns: Matplotlib plot of the Death Star\n",
    "    NOT SURE HOW TO MAKE THIS WORK DOESN'T RETURN ANYTHING YET\n",
    "    '''\n",
    "    outline = Circle(80,80,80)\n",
    "    dish = Circle(80,120,22)\n",
    "    plot_duct(outline)\n",
    "    plot_cable(dish)"
   ]
  },
  {
   "cell_type": "code",
   "execution_count": 16,
   "metadata": {},
   "outputs": [],
   "source": [
    "def first_cable_position(r_2,duct):\n",
    "    '''\n",
    "    This places the first cable in the centre at the bottom.\n",
    "    r_2 = radius of first cable\n",
    "    duct is the duct circle object\n",
    "    Returns circle object of first cable\n",
    "    '''\n",
    "    a_1 = duct.x\n",
    "    b_1 = duct.y\n",
    "    r_1 = duct.rad\n",
    "    a_2 = a_1\n",
    "    b_2 = b_1 - r_1 + r_2\n",
    "    return Circle(a_2,b_2,r_2)"
   ]
  },
  {
   "cell_type": "markdown",
   "metadata": {},
   "source": [
    "#  Circle intersection equations\n",
    "$$\n",
    "d=\\sqrt{(x_1-x_2)^2 +(y_1-y_2)^2}\\\\\n",
    "l=\\frac{r_1^2-r_2^2+d^2}{2d}\\\\\n",
    "h=\\sqrt{r_1^2+l^2}\\\\\n",
    "x=\\frac{l}{d}(x_2-x_1)\\pm\\frac{h}{d}(y_2-y_1)+x_1\\\\\n",
    "y=\\frac{l}{d}(y_2-y_1)\\mp\\frac{h}{d}(x_2-x_1)+x_1\\\\\n",
    "$$\n",
    "Source  \n",
    "https://math.stackexchange.com/questions/256100/how-can-i-find-the-points-at-which-two-circles-intersect"
   ]
  },
  {
   "cell_type": "code",
   "execution_count": 17,
   "metadata": {},
   "outputs": [],
   "source": [
    "def edge_cable(duct, cable, r_3):\n",
    "    '''\n",
    "    Adds a new circle that touches the duct and one other circle\n",
    "    Arguments: Duct circle object as duct and other existing cable as\n",
    "    cable, r_3 is radius of new circle\n",
    "    Returns: List of two Circle objects in two locations where the new circle \n",
    "    will touch both duct and cable \n",
    "    #formula from https://math.stackexchange.com/questions/256100/how-can-i-find-the-points-at-which-two-circles-intersect\n",
    "    '''\n",
    "    a_1 = duct.x\n",
    "    a_2 = cable.x\n",
    "    b_1 = duct.y\n",
    "    b_2 = cable.y\n",
    "    r_1 = duct.rad\n",
    "    r_2 = cable.rad\n",
    "    d = ((a_1 - a_2)**2 + (b_1 - b_2)**2)**0.5\n",
    "    l = ((r_1-r_3)**2 - (r_2+r_3)**2 + d**2)/(2*d)\n",
    "    h = ((r_1-r_3)**2 - l**2)**0.5\n",
    "    x_1 = (l/d)*(a_2 - a_1) + (h/d)*(b_2 - b_1) + a_1\n",
    "    x_2 = (l/d)*(a_2 - a_1) - (h/d)*(b_2 - b_1) + a_1\n",
    "    y_1 = (l/d)*(b_2 - b_1) - (h/d)*(a_2 - a_1) + b_1\n",
    "    y_2 = (l/d)*(b_2 - b_1) + (h/d)*(a_2 - a_1) + b_1\n",
    "    c_3a = Circle(x = x_1, y = y_1, rad=r_3)\n",
    "    c_3b = Circle(x = x_2, y = y_2, rad=r_3)\n",
    "    return [c_3a, c_3b]"
   ]
  },
  {
   "cell_type": "code",
   "execution_count": 18,
   "metadata": {},
   "outputs": [],
   "source": [
    "def inner_cable(cable_1, cable_2, r_3):\n",
    "    '''\n",
    "    Adds a new circle that touches two other circles\n",
    "    Arguments: cable_1 and cable_2 as circle objects, r_3 is radius of new circle\n",
    "    Returns: List of two Circle objects in two locations where the new circle \n",
    "    will touch both cable_1 and cable_2 \n",
    "    #formula from https://math.stackexchange.com/questions/256100/how-can-i-find-the-points-at-which-two-circles-intersect\n",
    "    '''\n",
    "    a_1 = cable_1.x\n",
    "    a_2 = cable_2.x\n",
    "    b_1 = cable_1.y\n",
    "    b_2 = cable_2.y\n",
    "    r_1 = cable_1.rad\n",
    "    r_2 = cable_2.rad\n",
    "    d = ((a_1 - a_2)**2 + (b_1 - b_2)**2)**0.5\n",
    "    l = ((r_1+r_3)**2 - (r_2+r_3)**2 + d**2)/(2*d)\n",
    "    h = ((r_1+r_3)**2 - l**2)**0.5\n",
    "    x_1 = (l/d)*(a_2 - a_1) + (h/d)*(b_2 - b_1) + a_1\n",
    "    x_2 = (l/d)*(a_2 - a_1) - (h/d)*(b_2 - b_1) + a_1\n",
    "    y_1 = (l/d)*(b_2 - b_1) - (h/d)*(a_2 - a_1) + b_1\n",
    "    y_2 = (l/d)*(b_2 - b_1) + (h/d)*(a_2 - a_1) + b_1\n",
    "    c_3a = Circle(x = x_1, y = y_1, rad=r_3)\n",
    "    c_3b = Circle(x = x_2, y = y_2, rad=r_3)\n",
    "    return [c_3a, c_3b]"
   ]
  },
  {
   "cell_type": "code",
   "execution_count": 19,
   "metadata": {},
   "outputs": [
    {
     "name": "stderr",
     "output_type": "stream",
     "text": [
      "/home/sam-rach/anaconda3/lib/python3.7/site-packages/ipykernel_launcher.py:17: RuntimeWarning: invalid value encountered in double_scalars\n",
      "/home/sam-rach/anaconda3/lib/python3.7/site-packages/ipykernel_launcher.py:20: RuntimeWarning: invalid value encountered in double_scalars\n"
     ]
    },
    {
     "name": "stdout",
     "output_type": "stream",
     "text": [
      "[<__main__.Circle object at 0x7f3c55c8c850>, <__main__.Circle object at 0x7f3c819f3ed0>]\n"
     ]
    },
    {
     "data": {
      "image/png": "[encoded data removed]",
      "text/plain": [
       "<Figure size 432x288 with 1 Axes>"
      ]
     },
     "metadata": {
      "needs_background": "light"
     },
     "output_type": "display_data"
    }
   ],
   "source": [
    "c_1 = Circle(x=0,y=0,rad=75)\n",
    "plot_duct(c_1)\n",
    "c_2 = first_cable_position(5, c_1)\n",
    "c_3 = edge_cable(c_1, c_2, 10)\n",
    "c_3 = lowest_cable(c_3)\n",
    "c_4 = inner_cable(c_2,c_3[0],7)\n",
    "c_4 = cable_filter(out_duct,c_4,[c_1])\n",
    "c_4 = lowest_cable(c_4)\n",
    "plot_cable(c_2)\n",
    "plot_cable(c_3[0])\n",
    "plot_cable(c_4[0])\n",
    "test = [c_1]\n",
    "test.extend(c_3)\n",
    "print(test)"
   ]
  },
  {
   "cell_type": "code",
   "execution_count": 20,
   "metadata": {},
   "outputs": [
    {
     "name": "stderr",
     "output_type": "stream",
     "text": [
      "/home/sam-rach/anaconda3/lib/python3.7/site-packages/ipykernel_launcher.py:17: RuntimeWarning: invalid value encountered in double_scalars\n",
      "/home/sam-rach/anaconda3/lib/python3.7/site-packages/ipykernel_launcher.py:20: RuntimeWarning: invalid value encountered in double_scalars\n",
      "/home/sam-rach/anaconda3/lib/python3.7/site-packages/ipykernel_launcher.py:17: RuntimeWarning: invalid value encountered in double_scalars\n",
      "/home/sam-rach/anaconda3/lib/python3.7/site-packages/ipykernel_launcher.py:20: RuntimeWarning: invalid value encountered in double_scalars\n",
      "/home/sam-rach/anaconda3/lib/python3.7/site-packages/ipykernel_launcher.py:17: RuntimeWarning: invalid value encountered in double_scalars\n",
      "/home/sam-rach/anaconda3/lib/python3.7/site-packages/ipykernel_launcher.py:20: RuntimeWarning: invalid value encountered in double_scalars\n",
      "/home/sam-rach/anaconda3/lib/python3.7/site-packages/ipykernel_launcher.py:17: RuntimeWarning: invalid value encountered in double_scalars\n",
      "/home/sam-rach/anaconda3/lib/python3.7/site-packages/ipykernel_launcher.py:20: RuntimeWarning: invalid value encountered in double_scalars\n",
      "/home/sam-rach/anaconda3/lib/python3.7/site-packages/ipykernel_launcher.py:17: RuntimeWarning: invalid value encountered in double_scalars\n",
      "/home/sam-rach/anaconda3/lib/python3.7/site-packages/ipykernel_launcher.py:20: RuntimeWarning: invalid value encountered in double_scalars\n",
      "/home/sam-rach/anaconda3/lib/python3.7/site-packages/ipykernel_launcher.py:17: RuntimeWarning: invalid value encountered in double_scalars\n",
      "/home/sam-rach/anaconda3/lib/python3.7/site-packages/ipykernel_launcher.py:20: RuntimeWarning: invalid value encountered in double_scalars\n",
      "/home/sam-rach/anaconda3/lib/python3.7/site-packages/ipykernel_launcher.py:17: RuntimeWarning: invalid value encountered in double_scalars\n",
      "/home/sam-rach/anaconda3/lib/python3.7/site-packages/ipykernel_launcher.py:20: RuntimeWarning: invalid value encountered in double_scalars\n",
      "/home/sam-rach/anaconda3/lib/python3.7/site-packages/ipykernel_launcher.py:17: RuntimeWarning: invalid value encountered in double_scalars\n",
      "/home/sam-rach/anaconda3/lib/python3.7/site-packages/ipykernel_launcher.py:20: RuntimeWarning: invalid value encountered in double_scalars\n",
      "/home/sam-rach/anaconda3/lib/python3.7/site-packages/ipykernel_launcher.py:17: RuntimeWarning: invalid value encountered in double_scalars\n",
      "/home/sam-rach/anaconda3/lib/python3.7/site-packages/ipykernel_launcher.py:20: RuntimeWarning: invalid value encountered in double_scalars\n",
      "/home/sam-rach/anaconda3/lib/python3.7/site-packages/ipykernel_launcher.py:17: RuntimeWarning: invalid value encountered in double_scalars\n",
      "/home/sam-rach/anaconda3/lib/python3.7/site-packages/ipykernel_launcher.py:20: RuntimeWarning: invalid value encountered in double_scalars\n",
      "/home/sam-rach/anaconda3/lib/python3.7/site-packages/ipykernel_launcher.py:17: RuntimeWarning: invalid value encountered in double_scalars\n",
      "/home/sam-rach/anaconda3/lib/python3.7/site-packages/ipykernel_launcher.py:20: RuntimeWarning: invalid value encountered in double_scalars\n"
     ]
    },
    {
     "data": {
      "image/png": "[encoded data removed]",
      "text/plain": [
       "<Figure size 432x288 with 1 Axes>"
      ]
     },
     "metadata": {
      "needs_background": "light"
     },
     "output_type": "display_data"
    }
   ],
   "source": [
    "# Cool part way there stage\n",
    "\n",
    "# List of cable diameters we want to put in the duct\n",
    "cable_dia = [2,2,2,2,2,5,5,5,5,5,5,5,12,12,10,10,10,8,8,8,8,8,8,20,20,25,15,15,15,15,15,16,16,13,18]\n",
    "# Convert the diameters to radii\n",
    "cable_rad = []\n",
    "for i in cable_dia:\n",
    "    cable_rad.append(i/2)\n",
    "# Random shuffle of the cables\n",
    "random.shuffle(cable_rad)\n",
    "# Create duct as a circle object\n",
    "duct = Circle(x=0,y=0,rad=75)\n",
    "# Take the first cable from the end of the list\n",
    "def take_cable():\n",
    "    '''\n",
    "    Function pops cable off cable_rad and returns popped cable\n",
    "    '''\n",
    "    new_cable = cable_rad.pop()\n",
    "    return new_cable\n",
    "new_cable = take_cable()\n",
    "# Place the first cable\n",
    "first_cable = first_cable_position(r_2 = new_cable, duct = duct)\n",
    "# Start a list of placed cable circle objects\n",
    "placed_cables = [first_cable]\n",
    "while True:\n",
    "    # Check if you still have cables\n",
    "    if len(cable_rad) > 0:\n",
    "        # Take the next cable\n",
    "        new_cable = take_cable()\n",
    "    else:\n",
    "        break\n",
    "    # Empty list of possible cable objects\n",
    "    new_cable_obj = []\n",
    "    # Loop to find all possible cable locations touching the duct\n",
    "    for i in placed_cables:\n",
    "        if touch_duct(duct=duct,cable=i,new_cable=new_cable):\n",
    "            new_cable_obj.extend(edge_cable(duct=duct,cable=i,r_3=new_cable))\n",
    "    placed_cables.append(new_cable_obj[0])#Delete after testing\n",
    "    \n",
    "plot_duct(duct)\n",
    "for i in placed_cables:\n",
    "    plot_cable(i)\n"
   ]
  },
  {
   "cell_type": "code",
   "execution_count": 21,
   "metadata": {},
   "outputs": [
    {
     "name": "stderr",
     "output_type": "stream",
     "text": [
      "/home/sam-rach/anaconda3/lib/python3.7/site-packages/ipykernel_launcher.py:17: RuntimeWarning: invalid value encountered in double_scalars\n",
      "/home/sam-rach/anaconda3/lib/python3.7/site-packages/ipykernel_launcher.py:20: RuntimeWarning: invalid value encountered in double_scalars\n"
     ]
    },
    {
     "data": {
      "image/png": "[encoded data removed]",
      "text/plain": [
       "<Figure size 432x288 with 1 Axes>"
      ]
     },
     "metadata": {
      "needs_background": "light"
     },
     "output_type": "display_data"
    }
   ],
   "source": [
    "# There's a bug that I haven't been able to track down that means the script only works \n",
    "# sometimes. If you re-run it enough times it will work\n",
    "\n",
    "# List of cable diameters we want to put in the duct\n",
    "cable_dia = [5,5,5,5,5,5,5,12,12,10,10,10,8,8,8,8,8,8,20,20,25,15,15,15,15,15,16,16,13,18]\n",
    "cable_dia = cable_dia*2\n",
    "# Convert the diameters to radii\n",
    "cable_rad = []\n",
    "for i in cable_dia:\n",
    "    cable_rad.append(i/2)\n",
    "# Random shuffle of the cables\n",
    "random.shuffle(cable_rad)\n",
    "# Create duct as a circle object\n",
    "duct = Circle(x=0,y=0,rad=75)\n",
    "# Take the first cable from the end of the list\n",
    "def take_cable():\n",
    "    '''\n",
    "    Function pops cable off cable_rad and returns popped cable\n",
    "    '''\n",
    "    new_cable = cable_rad.pop()\n",
    "    return new_cable\n",
    "new_cable = take_cable()\n",
    "# Place the first cable\n",
    "first_cable = first_cable_position(r_2 = new_cable, duct = duct)\n",
    "# Start a list of placed cable circle objects\n",
    "placed_cables = [first_cable]\n",
    "while True:\n",
    "    # Check if you still have cables\n",
    "    if len(cable_rad) > 0:\n",
    "        # Take the next cable\n",
    "        new_cable = take_cable()\n",
    "    else:\n",
    "        break\n",
    "    # Empty list of possible cable objects\n",
    "    new_cable_obj = []\n",
    "    \n",
    "    # Loop to find all possible cable locations touching the duct\n",
    "    for i in placed_cables:\n",
    "        if touch_duct(duct=duct,cable=i,new_cable=new_cable):\n",
    "            new_cable_obj.extend(edge_cable(duct=duct,cable=i,r_3=new_cable))\n",
    "    \n",
    "    # Filter out inadmissible cables\n",
    "    new_cable_obj = cable_filter(clash,new_cable_obj,placed_cables)\n",
    "    new_cable_obj = cable_filter(over_half,new_cable_obj,[duct])\n",
    "    \n",
    "    # Loop to find all possible cable loations touching 2 placed cables\n",
    "    if len(placed_cables) > 1: # This is only valid when there are at least two cables\n",
    "        n = 0 # Start a counter\n",
    "        for i in placed_cables[:-1]: # Itterate through all but the last placed cables\n",
    "            for j in placed_cables[n+1::]: # Itterate through the cables after cable i\n",
    "                if cables_touch(cable_1=i,cable_2=j,new_cable=new_cable):\n",
    "                    new_cable_obj.extend(inner_cable(cable_1=i,cable_2=j,r_3=new_cable))\n",
    "            n += 1\n",
    "    \n",
    "    # Filter out inadmissible cables\n",
    "    new_cable_obj = cable_filter(clash,new_cable_obj,placed_cables)\n",
    "    new_cable_obj = cable_filter(over_half,new_cable_obj,[duct])\n",
    "    new_cable_obj = cable_filter(out_duct,new_cable_obj,[duct])\n",
    "    # Select lowest cable\n",
    "    new_cable_obj = lowest_cable(new_cable_obj)\n",
    "    \n",
    "    if new_cable_obj == []:\n",
    "        break\n",
    "\n",
    "    placed_cables.extend(new_cable_obj)#Delete after testing\n",
    "    \n",
    "plot_duct(duct)\n",
    "for i in placed_cables:\n",
    "    plot_cable(i)\n",
    "\n",
    "plt.savefig('Half_Full.png', dpi = 1000, facecolor = 'white')\n"
   ]
  },
  {
   "cell_type": "code",
   "execution_count": 22,
   "metadata": {},
   "outputs": [
    {
     "name": "stdout",
     "output_type": "stream",
     "text": [
      "[[True, True, True], [True, True, True], [False, True, True]]\n",
      "[True, True, False]\n",
      "[0, 1]\n",
      "[1, 3]\n"
     ]
    }
   ],
   "source": [
    "a = [1,3,6]\n",
    "b = [5,3,2]\n",
    "# Function to return boolean values \n",
    "def lessthanten(a,b):\n",
    "    return a + b < 10\n",
    "# Practice putting lists in lists using for loops\n",
    "new_a = []\n",
    "n = 0\n",
    "for i in a:\n",
    "    new_a.append([a[n]])\n",
    "    n += 1\n",
    "\n",
    "# Making a new list of lists using the True/False test to \n",
    "# compare all the items in the the first list with all\n",
    "# the items in the second list\n",
    "boola = []\n",
    "n = 0\n",
    "for i in a:\n",
    "    boola.append([])\n",
    "    for j in b:\n",
    "        boola[n].append(lessthanten(i,j))\n",
    "    n += 1\n",
    "print(boola)\n",
    "n = 0\n",
    "\n",
    "# Use the all() function to select only the lists where\n",
    "# all the values are True\n",
    "boolall = []\n",
    "for i in boola:\n",
    "    boolall.append(all(boola[n]))\n",
    "    n += 1\n",
    "print(boolall)\n",
    "\n",
    "# Use Numpy trickery to find all the indices of where values\n",
    "# are True\n",
    "npbool = np.where(boolall)[0]\n",
    "npbool = list(npbool)\n",
    "print(npbool)\n",
    "\n",
    "# Shorten list a \n",
    "onlytrue = []\n",
    "n = 0\n",
    "for i in boolall:\n",
    "    if i == True:\n",
    "        onlytrue.append(a[n])\n",
    "    n += 1\n",
    "print(onlytrue)"
   ]
  },
  {
   "cell_type": "code",
   "execution_count": 23,
   "metadata": {},
   "outputs": [
    {
     "name": "stdout",
     "output_type": "stream",
     "text": [
      "[<__main__.Circle object at 0x7f3c4f2782d0>, <__main__.Circle object at 0x7f3c4f278610>, <__main__.Circle object at 0x7f3c4f278650>, <__main__.Circle object at 0x7f3c4f2789d0>]\n",
      "True\n"
     ]
    },
    {
     "data": {
      "image/png": "[encoded data removed]",
      "text/plain": [
       "<Figure size 432x288 with 1 Axes>"
      ]
     },
     "metadata": {
      "needs_background": "light"
     },
     "output_type": "display_data"
    }
   ],
   "source": [
    "# Testing inner_cable function\n",
    "c_1 = Circle(0,0,5)\n",
    "c_2 = Circle(0,10,5)\n",
    "c_3 = inner_cable(c_1,c_2,10)\n",
    "PlacedCables = [c_1,c_2]\n",
    "PlacedCables.extend(c_3)\n",
    "\n",
    "List_1 = [c_1,c_2]\n",
    "List_2 = [c_3[0],c_3[1]]\n",
    "PlacedCables = cable_filter(clash,List_1,List_2)\n",
    "PlacedCables.extend(c_3)\n",
    "\n",
    "print(PlacedCables)\n",
    "print(clash(c_2,c_3[0]))\n",
    "for i in PlacedCables:\n",
    "    plot_cable(i)\n"
   ]
  },
  {
   "cell_type": "code",
   "execution_count": null,
   "metadata": {},
   "outputs": [],
   "source": [
    "circ = Circle()"
   ]
  }
 ],
 "metadata": {
  "kernelspec": {
   "display_name": "Python 3",
   "language": "python",
   "name": "python3"
  },
  "language_info": {
   "codemirror_mode": {
    "name": "ipython",
    "version": 3
   },
   "file_extension": ".py",
   "mimetype": "text/x-python",
   "name": "python",
   "nbconvert_exporter": "python",
   "pygments_lexer": "ipython3",
   "version": "3.7.10"
  }
 },
 "nbformat": 4,
 "nbformat_minor": 4
}
